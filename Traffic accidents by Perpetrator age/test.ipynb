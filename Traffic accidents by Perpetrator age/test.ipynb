{
 "cells": [
  {
   "cell_type": "code",
   "execution_count": 1,
   "metadata": {},
   "outputs": [],
   "source": [
    "import pandas as pd\n",
    "import numpy as np"
   ]
  },
  {
   "cell_type": "code",
   "execution_count": 2,
   "metadata": {},
   "outputs": [
    {
     "data": {
      "text/html": [
       "<div>\n",
       "<style scoped>\n",
       "    .dataframe tbody tr th:only-of-type {\n",
       "        vertical-align: middle;\n",
       "    }\n",
       "\n",
       "    .dataframe tbody tr th {\n",
       "        vertical-align: top;\n",
       "    }\n",
       "\n",
       "    .dataframe thead th {\n",
       "        text-align: right;\n",
       "    }\n",
       "</style>\n",
       "<table border=\"1\" class=\"dataframe\">\n",
       "  <thead>\n",
       "    <tr style=\"text-align: right;\">\n",
       "      <th></th>\n",
       "      <th>age</th>\n",
       "      <th>num_of_accident</th>\n",
       "      <th>deathtoll</th>\n",
       "      <th>num_of_sinj</th>\n",
       "      <th>num_of_minj</th>\n",
       "      <th>num_of_reported_inj</th>\n",
       "      <th>year</th>\n",
       "    </tr>\n",
       "  </thead>\n",
       "  <tbody>\n",
       "    <tr>\n",
       "      <th>0</th>\n",
       "      <td>under20</td>\n",
       "      <td>8020</td>\n",
       "      <td>162</td>\n",
       "      <td>3455</td>\n",
       "      <td>6710</td>\n",
       "      <td>1373</td>\n",
       "      <td>2013</td>\n",
       "    </tr>\n",
       "    <tr>\n",
       "      <th>1</th>\n",
       "      <td>21~30</td>\n",
       "      <td>29221</td>\n",
       "      <td>696</td>\n",
       "      <td>13235</td>\n",
       "      <td>30914</td>\n",
       "      <td>2636</td>\n",
       "      <td>2013</td>\n",
       "    </tr>\n",
       "    <tr>\n",
       "      <th>2</th>\n",
       "      <td>31~40</td>\n",
       "      <td>38718</td>\n",
       "      <td>877</td>\n",
       "      <td>17261</td>\n",
       "      <td>39418</td>\n",
       "      <td>2947</td>\n",
       "      <td>2013</td>\n",
       "    </tr>\n",
       "    <tr>\n",
       "      <th>3</th>\n",
       "      <td>41~50</td>\n",
       "      <td>52141</td>\n",
       "      <td>1147</td>\n",
       "      <td>23207</td>\n",
       "      <td>53836</td>\n",
       "      <td>3694</td>\n",
       "      <td>2013</td>\n",
       "    </tr>\n",
       "    <tr>\n",
       "      <th>4</th>\n",
       "      <td>51~60</td>\n",
       "      <td>51415</td>\n",
       "      <td>1169</td>\n",
       "      <td>22915</td>\n",
       "      <td>52658</td>\n",
       "      <td>3699</td>\n",
       "      <td>2013</td>\n",
       "    </tr>\n",
       "    <tr>\n",
       "      <th>...</th>\n",
       "      <td>...</td>\n",
       "      <td>...</td>\n",
       "      <td>...</td>\n",
       "      <td>...</td>\n",
       "      <td>...</td>\n",
       "      <td>...</td>\n",
       "      <td>...</td>\n",
       "    </tr>\n",
       "    <tr>\n",
       "      <th>77</th>\n",
       "      <td>41~50</td>\n",
       "      <td>47219</td>\n",
       "      <td>898</td>\n",
       "      <td>17936</td>\n",
       "      <td>49084</td>\n",
       "      <td>4472</td>\n",
       "      <td>2016</td>\n",
       "    </tr>\n",
       "    <tr>\n",
       "      <th>78</th>\n",
       "      <td>51~60</td>\n",
       "      <td>54299</td>\n",
       "      <td>1045</td>\n",
       "      <td>20703</td>\n",
       "      <td>56656</td>\n",
       "      <td>4913</td>\n",
       "      <td>2016</td>\n",
       "    </tr>\n",
       "    <tr>\n",
       "      <th>79</th>\n",
       "      <td>61~64</td>\n",
       "      <td>15305</td>\n",
       "      <td>338</td>\n",
       "      <td>5972</td>\n",
       "      <td>15607</td>\n",
       "      <td>1410</td>\n",
       "      <td>2016</td>\n",
       "    </tr>\n",
       "    <tr>\n",
       "      <th>80</th>\n",
       "      <td>over65</td>\n",
       "      <td>24429</td>\n",
       "      <td>759</td>\n",
       "      <td>9816</td>\n",
       "      <td>23507</td>\n",
       "      <td>2364</td>\n",
       "      <td>2016</td>\n",
       "    </tr>\n",
       "    <tr>\n",
       "      <th>81</th>\n",
       "      <td>unknown</td>\n",
       "      <td>4962</td>\n",
       "      <td>1</td>\n",
       "      <td>854</td>\n",
       "      <td>3488</td>\n",
       "      <td>1161</td>\n",
       "      <td>2016</td>\n",
       "    </tr>\n",
       "  </tbody>\n",
       "</table>\n",
       "<p>82 rows × 7 columns</p>\n",
       "</div>"
      ],
      "text/plain": [
       "        age  num_of_accident  deathtoll  num_of_sinj  num_of_minj  \\\n",
       "0   under20             8020        162         3455         6710   \n",
       "1     21~30            29221        696        13235        30914   \n",
       "2     31~40            38718        877        17261        39418   \n",
       "3     41~50            52141       1147        23207        53836   \n",
       "4     51~60            51415       1169        22915        52658   \n",
       "..      ...              ...        ...          ...          ...   \n",
       "77    41~50            47219        898        17936        49084   \n",
       "78    51~60            54299       1045        20703        56656   \n",
       "79    61~64            15305        338         5972        15607   \n",
       "80   over65            24429        759         9816        23507   \n",
       "81  unknown             4962          1          854         3488   \n",
       "\n",
       "    num_of_reported_inj  year  \n",
       "0                  1373  2013  \n",
       "1                  2636  2013  \n",
       "2                  2947  2013  \n",
       "3                  3694  2013  \n",
       "4                  3699  2013  \n",
       "..                  ...   ...  \n",
       "77                 4472  2016  \n",
       "78                 4913  2016  \n",
       "79                 1410  2016  \n",
       "80                 2364  2016  \n",
       "81                 1161  2016  \n",
       "\n",
       "[82 rows x 7 columns]"
      ]
     },
     "execution_count": 2,
     "metadata": {},
     "output_type": "execute_result"
    }
   ],
   "source": [
    "df = pd.read_csv('traffic_accident.csv')\n",
    "df"
   ]
  },
  {
   "cell_type": "code",
   "execution_count": 4,
   "metadata": {},
   "outputs": [
    {
     "data": {
      "text/plain": [
       "age                    under20\n",
       "num_of_accident           8020\n",
       "deathtoll                  162\n",
       "num_of_sinj               3455\n",
       "num_of_minj               6710\n",
       "num_of_reported_inj       1373\n",
       "year                      2013\n",
       "Name: 0, dtype: object"
      ]
     },
     "execution_count": 4,
     "metadata": {},
     "output_type": "execute_result"
    }
   ],
   "source": [
    "df.loc[0]"
   ]
  },
  {
   "cell_type": "code",
   "execution_count": 10,
   "metadata": {},
   "outputs": [
    {
     "data": {
      "text/plain": [
       "age                    under20\n",
       "num_of_accident           8020\n",
       "deathtoll                  162\n",
       "num_of_sinj               3455\n",
       "num_of_minj               6710\n",
       "num_of_reported_inj       1373\n",
       "year                      2013\n",
       "Name: 0, dtype: object"
      ]
     },
     "execution_count": 10,
     "metadata": {},
     "output_type": "execute_result"
    }
   ],
   "source": [
    "df.loc[0]"
   ]
  },
  {
   "cell_type": "code",
   "execution_count": null,
   "metadata": {},
   "outputs": [],
   "source": []
  }
 ],
 "metadata": {
  "kernelspec": {
   "display_name": "Python 3",
   "language": "python",
   "name": "python3"
  },
  "language_info": {
   "codemirror_mode": {
    "name": "ipython",
    "version": 3
   },
   "file_extension": ".py",
   "mimetype": "text/x-python",
   "name": "python",
   "nbconvert_exporter": "python",
   "pygments_lexer": "ipython3",
   "version": "3.9.13"
  },
  "orig_nbformat": 4
 },
 "nbformat": 4,
 "nbformat_minor": 2
}
